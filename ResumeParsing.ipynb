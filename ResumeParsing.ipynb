{
 "metadata": {
  "orig_nbformat": 2,
  "kernelspec": {
   "name": "python3",
   "display_name": "Python 3.7.4 64-bit"
  },
  "interpreter": {
   "hash": "83c81250742688ff467ca0520eff071d3643ef1d2af42510597b728483f832c8"
  },
  "language_info": {
   "name": "python",
   "version": "3.7.4",
   "mimetype": "text/x-python",
   "codemirror_mode": {
    "name": "ipython",
    "version": 3
   },
   "pygments_lexer": "ipython3",
   "nbconvert_exporter": "python",
   "file_extension": ".py"
  }
 },
 "nbformat": 4,
 "nbformat_minor": 2,
 "cells": [
  {
   "cell_type": "code",
   "execution_count": 5,
   "source": [
    "import sys, fitz, os\r\n",
    "from resume_parser import resumeparse\r\n",
    "dir_list = os.listdir(r\"D:/FINAL YEAR PROJECT/Resumes/TestData/\")\r\n",
    "res_list = []\r\n",
    "#paths = r\"D:\\FINAL YEAR PROJECT\\Resumes\\TestData\"\r\n",
    "myfile = open('myfile.txt', 'w')\r\n",
    "for file in dir_list:\r\n",
    "    #if os.path.isfile(os.path.join(paths,file)):\r\n",
    "    #doc =fitz.open(os.path.join(paths,file), stream=mem_area, filetype=\"\")\r\n",
    "    doc = fitz.open(file)\r\n",
    "    print(doc)\r\n",
    "    text = \" \"\r\n",
    "    for page in doc:\r\n",
    "        text = text + str(page.getText())\r\n",
    "        myfile.write(text)\r\n",
    "        doc.close()\r\n",
    "        \r\n",
    "        \r\n",
    "#f = open(\"myfile.txt\", \"r\")\r\n",
    "#print(f.read())\r\n",
    "\r\n",
    "\r\n"
   ],
   "outputs": [
    {
     "output_type": "stream",
     "name": "stderr",
     "text": [
      "C:\\Users\\FAITH KATHERINE\\AppData\\Roaming\\Python\\Python37\\site-packages\\spacy\\util.py:275: UserWarning: [W031] Model 'en_training' (0.0.0) requires spaCy v2.2 and is incompatible with the current spaCy version (2.3.5). This may lead to unexpected results or runtime errors. To resolve this, download a newer compatible model or retrain your custom model with the current spaCy version. For more details and available updates, run: python -m spacy validate\n",
      "  warnings.warn(warn_msg)\n",
      "mupdf: cannot open 1.pdf: No such file or directory\n"
     ]
    },
    {
     "output_type": "error",
     "ename": "RuntimeError",
     "evalue": "cannot open 1.pdf: No such file or directory",
     "traceback": [
      "\u001b[1;31m---------------------------------------------------------------------------\u001b[0m",
      "\u001b[1;31mRuntimeError\u001b[0m                              Traceback (most recent call last)",
      "\u001b[1;32m<ipython-input-5-04d561243a9e>\u001b[0m in \u001b[0;36m<module>\u001b[1;34m\u001b[0m\n\u001b[0;32m      8\u001b[0m     \u001b[1;31m#if os.path.isfile(os.path.join(paths,file)):\u001b[0m\u001b[1;33m\u001b[0m\u001b[1;33m\u001b[0m\u001b[1;33m\u001b[0m\u001b[0m\n\u001b[0;32m      9\u001b[0m     \u001b[1;31m#doc =fitz.open(os.path.join(paths,file), stream=mem_area, filetype=\"\")\u001b[0m\u001b[1;33m\u001b[0m\u001b[1;33m\u001b[0m\u001b[1;33m\u001b[0m\u001b[0m\n\u001b[1;32m---> 10\u001b[1;33m     \u001b[0mdoc\u001b[0m \u001b[1;33m=\u001b[0m \u001b[0mfitz\u001b[0m\u001b[1;33m.\u001b[0m\u001b[0mopen\u001b[0m\u001b[1;33m(\u001b[0m\u001b[0mfile\u001b[0m\u001b[1;33m)\u001b[0m\u001b[1;33m\u001b[0m\u001b[1;33m\u001b[0m\u001b[0m\n\u001b[0m\u001b[0;32m     11\u001b[0m     \u001b[0mprint\u001b[0m\u001b[1;33m(\u001b[0m\u001b[0mdoc\u001b[0m\u001b[1;33m)\u001b[0m\u001b[1;33m\u001b[0m\u001b[1;33m\u001b[0m\u001b[0m\n\u001b[0;32m     12\u001b[0m     \u001b[0mtext\u001b[0m \u001b[1;33m=\u001b[0m \u001b[1;34m\" \"\u001b[0m\u001b[1;33m\u001b[0m\u001b[1;33m\u001b[0m\u001b[0m\n",
      "\u001b[1;32m~\\AppData\\Local\\Programs\\Python\\Python37\\lib\\site-packages\\fitz\\fitz.py\u001b[0m in \u001b[0;36m__init__\u001b[1;34m(self, filename, stream, filetype, rect, width, height, fontsize)\u001b[0m\n\u001b[0;32m   3652\u001b[0m             \u001b[0mself\u001b[0m\u001b[1;33m,\u001b[0m\u001b[1;33m\u001b[0m\u001b[1;33m\u001b[0m\u001b[0m\n\u001b[0;32m   3653\u001b[0m             _fitz.new_Document(\n\u001b[1;32m-> 3654\u001b[1;33m                 \u001b[0mfilename\u001b[0m\u001b[1;33m,\u001b[0m \u001b[0mstream\u001b[0m\u001b[1;33m,\u001b[0m \u001b[0mfiletype\u001b[0m\u001b[1;33m,\u001b[0m \u001b[0mrect\u001b[0m\u001b[1;33m,\u001b[0m \u001b[0mwidth\u001b[0m\u001b[1;33m,\u001b[0m \u001b[0mheight\u001b[0m\u001b[1;33m,\u001b[0m \u001b[0mfontsize\u001b[0m\u001b[1;33m\u001b[0m\u001b[1;33m\u001b[0m\u001b[0m\n\u001b[0m\u001b[0;32m   3655\u001b[0m             ),\n\u001b[0;32m   3656\u001b[0m         )\n",
      "\u001b[1;31mRuntimeError\u001b[0m: cannot open 1.pdf: No such file or directory"
     ]
    }
   ],
   "metadata": {
    "tags": []
   }
  },
  {
   "cell_type": "code",
   "execution_count": 1,
   "source": [
    "import spacy\r\n",
    "nlp_model = spacy.load('nlp_model')"
   ],
   "outputs": [],
   "metadata": {}
  },
  {
   "cell_type": "code",
   "execution_count": 9,
   "source": [
    "import sys, fitz\r\n",
    "#fname = \"D:/FINAL YEAR PROJECT/ResumeRanking/Alice Clark CV.pdf\"\r\n",
    "fname = \"D:/FINAL YEAR PROJECT/Resumes/TestData/1.pdf\"\r\n",
    "doc = fitz.open(fname)\r\n",
    "text = \"\"\r\n",
    "for page in doc:\r\n",
    "    text = text + str(page.getText())\r\n",
    "tx = \"\".join(text.split(\"\\n\"))\r\n",
    "print(text)\r\n"
   ],
   "outputs": [
    {
     "output_type": "stream",
     "name": "stdout",
     "text": [
      "Personal \n",
      "Information\n",
      "CURRICULUM VITAE\n",
      "FullNames\n",
      ": Mike KisasatiWanaswa\n",
      "IDCardNo.\n",
      "22859930\n",
      "PostalAddress\n",
      ": P.O. Box 85575 80100Mombasa\n",
      "TelephoneNo.\n",
      "0717 550926\n",
      "EmailAddress\n",
      ":mikewanaswa@gmail.co\n",
      "mLanguages\n",
      ": Well spoken English and \n",
      "SwahiliPurpose\n",
      "To put in use the latest inventions in Telecommunication and Information Technology for a \n",
      "positive impact\n",
      "in Individuals, Business Enterprises and Corporate Organizations.\n",
      "Work Experience\n",
      "Date\n",
      ":April 2011 – ToDate\n",
      "Position\n",
      ":Fixed Data NetworkTechnician\n",
      "Employer\n",
      ":Ben’s Electronics Services Ltd,Mombasa\n",
      "Duties\n",
      ": Survey, Installation, Integration, Maintenance, Support and \n",
      "Decommissioning of Fixed Data Services using various Access\n",
      "Technologies (WIMAX, FIBER, MICROWAVES and Wi-Fi) for \n",
      "SafaricomLtd.\n",
      ": Survey, Installation and Support of Ceragon’s IP20 Access Technology for \n",
      "Airtel (K)\n",
      ": Survey , Installation and Support of Cambridge P2MP Solutions for \n",
      "Safaricom.\n",
      ": Fiber Optics Splicing and terminations, deployment, support and \n",
      "maintenance\n",
      ": WAN/LAN Design, installation and Technical Support (Structured Cabling)\n",
      ": Installation and support for CCTV, IP Cameras, Biometrics Security Controls.\n",
      ": Installation and Support for RADWIN P2P Links and Ceragon PTMP,Links.\n",
      ": Installation and support for Telrad Wimax BTS\n",
      ": WI-FI setup, maintenance and Support.\n",
      ": E1 and SIP/VoIP installation and support\n",
      ": Systems Integration on Cisco, HP and Huawei Platforms for \n",
      "MPLS, P2P,VPN and Internet.\n",
      ": Fixed LTE installation for Safaricom’s Enterprise clients.\n",
      "Date\n",
      ":September 2010 - April2011\n",
      "Position\n",
      ":Freelance ComputerTechnician\n",
      "Employer\n",
      ": Self Employed inMombasa\n",
      "Duties\n",
      ": Installation of software and hardware for PCs, Servers,Printers.\n",
      ": Web design and website maintenance.\n",
      ": Repair of PCs, Printers, Scanners and other computer accessories\n",
      ": LAN/WAN design, installation and support.\n",
      "Date\n",
      ":March 2010 – August2010\n",
      "Position\n",
      ":Scanning Officer/SystemAdministrator\n",
      "Employer\n",
      ": Interim Independent ElectoralCommission\n",
      "Duties\n",
      ": Scanning of OMR Forms to extract data for thevoters\n",
      ": Creation and maintenance of Voters’ database/Register\n",
      ": End User training and support on Voter Management System\n",
      ": MMC Administration/ Mail servers administration.\n",
      ": Network Management & Data Recovery\n",
      ": Repair and maintenance of Scanner, printers and Computers.\n",
      "Date\n",
      ": January 2009 - March2010\n",
      "Position\n",
      ":Freelance ComputerT e c h n i c i a n\n",
      "Duties\n",
      ": Installation of software and hardware for PCs, Servers,Printers.\n",
      ": Repair of PCs, Printers, Scanners and other computer accessories\n",
      ": LAN/WAN Support.\n",
      "Educational Background\n",
      "Date\n",
      ": September 2007 – December2008\n",
      "Institution\n",
      ": Inoorero University (Kenya School of Professional \n",
      "studies) - NairobiCourse\n",
      ": Diploma in Computer Engineering, System \n",
      "Administration and SupportGrade\n",
      ":Credit\n",
      "Date\n",
      ": Feb 1997 – November2000\n",
      "Institution\n",
      ": Bungoma High School,Bungoma\n",
      "Grade\n",
      ":KCSE Mean Grade B-( M i n u s )\n",
      "Date\n",
      ": Jan 1989 – December1996\n",
      "Institution\n",
      ": Bungoma DEB Primary School,Bungoma\n",
      "Grade\n",
      ":KCPE 444 out of 700Marks\n",
      "Professional Trainings\n",
      "Date\n",
      ": July2018\n",
      "Institution\n",
      ": AmiranCommunications\n",
      "Course\n",
      ": Radwin Installer , P2P,P2MP\n",
      "Grade\n",
      ":Distinction\n",
      "Date\n",
      ": March2018\n",
      "Institution\n",
      ": Cambridge Broadband Networks KenyaLtd\n",
      "Course\n",
      ": VectarStarInstallation.\n",
      "Grade\n",
      ":Distinction\n",
      "Date\n",
      ": Jan2018\n",
      "Institution\n",
      ": CeragonNetworks\n",
      "Course\n",
      ": Ceragon Certified Rollout ProfessionalIP20C/S/E/N\n",
      "Grade\n",
      ":Distinction\n",
      "Date\n",
      ": June2017\n",
      "Institution\n",
      ": E Learning -Ruckus\n",
      "Course\n",
      ": Ruckus Wireless Certified Associate – Support Engineer(RWCA-SupE)\n",
      "Grade\n",
      ":Distinction\n",
      "Date\n",
      ": Jan 2017 to Mar2017\n",
      "Institution\n",
      ": IATMombasa\n",
      "Course\n",
      ":CCNA\n",
      "Grade\n",
      ":Distinction\n",
      "Date\n",
      ": July2015\n",
      "Institution\n",
      ": Viscar Industrial CapacityLtd\n",
      "Course\n",
      ": Fall Arrest Technician/Work atHeight\n",
      "Grade\n",
      ":Distinction\n",
      "Note: Am in possession of a clean Class BCE\n",
      "Driving licenseReferees\n",
      "Patrick Odame\n",
      "Regional Election Coordinator, Bungoma\n",
      "P.O. Box 2568, 50200, \n",
      "Bungoma Phone No. 0720 \n",
      "255 \n",
      "059snyodame@yahoo.co.u\n",
      "k\n",
      "Cyrus Soi\n",
      "Projects Manager, Bens Electronics\n",
      "P. O. Box 726 , 80100 \n",
      "Mombasa Phone \n",
      "0710466547info@bensele\n",
      "ctronics.co.ke\n",
      "Christine Owuor\n",
      "Fixed Access Engineer, \n",
      "Safaricom P O. Box 66827 \n",
      "00800 Nairobi\n",
      "Phone No. 0724 360 530\n",
      "cowuor@safaricom.co.ke\n",
      "Kelvin Ongoro\n",
      "Field Engineer,Safaricom.\n",
      "P.O. Box 66827 00800 \n",
      "Nairobi Phone 0724619 \n",
      "217kongoro@safaricom\n",
      ".co.ke\n",
      "\n"
     ]
    }
   ],
   "metadata": {}
  },
  {
   "cell_type": "code",
   "execution_count": 10,
   "source": [
    "doc = nlp_model(tx)\r\n",
    "for ent in doc.ents:\r\n",
    "    print(f'{ent.label_.upper():{30}}- {ent.text}')"
   ],
   "outputs": [
    {
     "output_type": "stream",
     "name": "stdout",
     "text": [
      "NAME                          - Personal InformationCURRICULUM\n",
      "DESIGNATION                   - and Information Technology\n"
     ]
    }
   ],
   "metadata": {}
  },
  {
   "cell_type": "code",
   "execution_count": 6,
   "source": [
    "data = resumeparse.read_file(\"D:/FINAL YEAR PROJECT/ResumeRanking/Alice Clark CV.pdf\")\r\n",
    "data"
   ],
   "outputs": [
    {
     "output_type": "stream",
     "name": "stderr",
     "text": [
      "2021-09-06 14:19:22,893 [MainThread  ] [WARNI]  Failed to see startup log message; retrying...\n",
      "2021-09-06 14:19:27,978 [MainThread  ] [WARNI]  Failed to see startup log message; retrying...\n",
      "2021-09-06 14:19:32,980 [MainThread  ] [WARNI]  Failed to see startup log message; retrying...\n",
      "2021-09-06 14:19:37,981 [MainThread  ] [ERROR]  Tika startup log message not received after 3 tries.\n",
      "2021-09-06 14:19:37,983 [MainThread  ] [ERROR]  Failed to receive startup confirmation from startServer.\n",
      "ERROR:root:Error in tika installation:: Unable to start Tika server.\n",
      "ERROR:root:--------------------------\n",
      "ERROR:root:Install java for better result \n"
     ]
    },
    {
     "output_type": "execute_result",
     "data": {
      "text/plain": [
       "{'email': None,\n",
       " 'phone': '',\n",
       " 'name': 'Alice Clark',\n",
       " 'total_exp': 21,\n",
       " 'university': [],\n",
       " 'designition': ['software engineer', 'pick up', 'project manager'],\n",
       " 'degree': [],\n",
       " 'skills': ['Machine Learning',\n",
       "  ' Natural Language Processing',\n",
       "  ' and Big Data Handling',\n",
       "  'Excellent analytical',\n",
       "  ' problem solving',\n",
       "  ' communication',\n",
       "  ' knowledge transfer and interpersonal',\n",
       "  'skills with ability to interact with individuals at all the levels',\n",
       "  'Quick learner and maintains cordial relationship with project manager and team members and',\n",
       "  'good performer both in team and independent job environments',\n",
       "  'Positive attitude towards superiors &amp; peers',\n",
       "  'Supervised junior developers throughout project lifecycle and provided technical assistance'],\n",
       " 'Companies worked at': ['Microsoft']}"
      ]
     },
     "metadata": {},
     "execution_count": 6
    }
   ],
   "metadata": {}
  },
  {
   "cell_type": "code",
   "execution_count": 14,
   "source": [
    "import pandas as pd\r\n",
    "df= pd.DataFrame(data)"
   ],
   "outputs": [
    {
     "output_type": "error",
     "ename": "ValueError",
     "evalue": "arrays must all be same length",
     "traceback": [
      "\u001b[1;31m---------------------------------------------------------------------------\u001b[0m",
      "\u001b[1;31mValueError\u001b[0m                                Traceback (most recent call last)",
      "\u001b[1;32m<ipython-input-14-43b73aad37ac>\u001b[0m in \u001b[0;36m<module>\u001b[1;34m\u001b[0m\n\u001b[0;32m      1\u001b[0m \u001b[1;32mimport\u001b[0m \u001b[0mpandas\u001b[0m \u001b[1;32mas\u001b[0m \u001b[0mpd\u001b[0m\u001b[1;33m\u001b[0m\u001b[1;33m\u001b[0m\u001b[0m\n\u001b[1;32m----> 2\u001b[1;33m \u001b[0mdf\u001b[0m\u001b[1;33m=\u001b[0m \u001b[0mpd\u001b[0m\u001b[1;33m.\u001b[0m\u001b[0mDataFrame\u001b[0m\u001b[1;33m(\u001b[0m\u001b[0mdata\u001b[0m\u001b[1;33m)\u001b[0m\u001b[1;33m\u001b[0m\u001b[1;33m\u001b[0m\u001b[0m\n\u001b[0m",
      "\u001b[1;32m~\\AppData\\Local\\Programs\\Python\\Python37\\lib\\site-packages\\pandas\\core\\frame.py\u001b[0m in \u001b[0;36m__init__\u001b[1;34m(self, data, index, columns, dtype, copy)\u001b[0m\n\u001b[0;32m    527\u001b[0m \u001b[1;33m\u001b[0m\u001b[0m\n\u001b[0;32m    528\u001b[0m         \u001b[1;32melif\u001b[0m \u001b[0misinstance\u001b[0m\u001b[1;33m(\u001b[0m\u001b[0mdata\u001b[0m\u001b[1;33m,\u001b[0m \u001b[0mdict\u001b[0m\u001b[1;33m)\u001b[0m\u001b[1;33m:\u001b[0m\u001b[1;33m\u001b[0m\u001b[1;33m\u001b[0m\u001b[0m\n\u001b[1;32m--> 529\u001b[1;33m             \u001b[0mmgr\u001b[0m \u001b[1;33m=\u001b[0m \u001b[0minit_dict\u001b[0m\u001b[1;33m(\u001b[0m\u001b[0mdata\u001b[0m\u001b[1;33m,\u001b[0m \u001b[0mindex\u001b[0m\u001b[1;33m,\u001b[0m \u001b[0mcolumns\u001b[0m\u001b[1;33m,\u001b[0m \u001b[0mdtype\u001b[0m\u001b[1;33m=\u001b[0m\u001b[0mdtype\u001b[0m\u001b[1;33m)\u001b[0m\u001b[1;33m\u001b[0m\u001b[1;33m\u001b[0m\u001b[0m\n\u001b[0m\u001b[0;32m    530\u001b[0m         \u001b[1;32melif\u001b[0m \u001b[0misinstance\u001b[0m\u001b[1;33m(\u001b[0m\u001b[0mdata\u001b[0m\u001b[1;33m,\u001b[0m \u001b[0mma\u001b[0m\u001b[1;33m.\u001b[0m\u001b[0mMaskedArray\u001b[0m\u001b[1;33m)\u001b[0m\u001b[1;33m:\u001b[0m\u001b[1;33m\u001b[0m\u001b[1;33m\u001b[0m\u001b[0m\n\u001b[0;32m    531\u001b[0m             \u001b[1;32mimport\u001b[0m \u001b[0mnumpy\u001b[0m\u001b[1;33m.\u001b[0m\u001b[0mma\u001b[0m\u001b[1;33m.\u001b[0m\u001b[0mmrecords\u001b[0m \u001b[1;32mas\u001b[0m \u001b[0mmrecords\u001b[0m\u001b[1;33m\u001b[0m\u001b[1;33m\u001b[0m\u001b[0m\n",
      "\u001b[1;32m~\\AppData\\Local\\Programs\\Python\\Python37\\lib\\site-packages\\pandas\\core\\internals\\construction.py\u001b[0m in \u001b[0;36minit_dict\u001b[1;34m(data, index, columns, dtype)\u001b[0m\n\u001b[0;32m    285\u001b[0m             \u001b[0marr\u001b[0m \u001b[1;32mif\u001b[0m \u001b[1;32mnot\u001b[0m \u001b[0mis_datetime64tz_dtype\u001b[0m\u001b[1;33m(\u001b[0m\u001b[0marr\u001b[0m\u001b[1;33m)\u001b[0m \u001b[1;32melse\u001b[0m \u001b[0marr\u001b[0m\u001b[1;33m.\u001b[0m\u001b[0mcopy\u001b[0m\u001b[1;33m(\u001b[0m\u001b[1;33m)\u001b[0m \u001b[1;32mfor\u001b[0m \u001b[0marr\u001b[0m \u001b[1;32min\u001b[0m \u001b[0marrays\u001b[0m\u001b[1;33m\u001b[0m\u001b[1;33m\u001b[0m\u001b[0m\n\u001b[0;32m    286\u001b[0m         ]\n\u001b[1;32m--> 287\u001b[1;33m     \u001b[1;32mreturn\u001b[0m \u001b[0marrays_to_mgr\u001b[0m\u001b[1;33m(\u001b[0m\u001b[0marrays\u001b[0m\u001b[1;33m,\u001b[0m \u001b[0mdata_names\u001b[0m\u001b[1;33m,\u001b[0m \u001b[0mindex\u001b[0m\u001b[1;33m,\u001b[0m \u001b[0mcolumns\u001b[0m\u001b[1;33m,\u001b[0m \u001b[0mdtype\u001b[0m\u001b[1;33m=\u001b[0m\u001b[0mdtype\u001b[0m\u001b[1;33m)\u001b[0m\u001b[1;33m\u001b[0m\u001b[1;33m\u001b[0m\u001b[0m\n\u001b[0m\u001b[0;32m    288\u001b[0m \u001b[1;33m\u001b[0m\u001b[0m\n\u001b[0;32m    289\u001b[0m \u001b[1;33m\u001b[0m\u001b[0m\n",
      "\u001b[1;32m~\\AppData\\Local\\Programs\\Python\\Python37\\lib\\site-packages\\pandas\\core\\internals\\construction.py\u001b[0m in \u001b[0;36marrays_to_mgr\u001b[1;34m(arrays, arr_names, index, columns, dtype, verify_integrity)\u001b[0m\n\u001b[0;32m     78\u001b[0m         \u001b[1;31m# figure out the index, if necessary\u001b[0m\u001b[1;33m\u001b[0m\u001b[1;33m\u001b[0m\u001b[1;33m\u001b[0m\u001b[0m\n\u001b[0;32m     79\u001b[0m         \u001b[1;32mif\u001b[0m \u001b[0mindex\u001b[0m \u001b[1;32mis\u001b[0m \u001b[1;32mNone\u001b[0m\u001b[1;33m:\u001b[0m\u001b[1;33m\u001b[0m\u001b[1;33m\u001b[0m\u001b[0m\n\u001b[1;32m---> 80\u001b[1;33m             \u001b[0mindex\u001b[0m \u001b[1;33m=\u001b[0m \u001b[0mextract_index\u001b[0m\u001b[1;33m(\u001b[0m\u001b[0marrays\u001b[0m\u001b[1;33m)\u001b[0m\u001b[1;33m\u001b[0m\u001b[1;33m\u001b[0m\u001b[0m\n\u001b[0m\u001b[0;32m     81\u001b[0m         \u001b[1;32melse\u001b[0m\u001b[1;33m:\u001b[0m\u001b[1;33m\u001b[0m\u001b[1;33m\u001b[0m\u001b[0m\n\u001b[0;32m     82\u001b[0m             \u001b[0mindex\u001b[0m \u001b[1;33m=\u001b[0m \u001b[0mensure_index\u001b[0m\u001b[1;33m(\u001b[0m\u001b[0mindex\u001b[0m\u001b[1;33m)\u001b[0m\u001b[1;33m\u001b[0m\u001b[1;33m\u001b[0m\u001b[0m\n",
      "\u001b[1;32m~\\AppData\\Local\\Programs\\Python\\Python37\\lib\\site-packages\\pandas\\core\\internals\\construction.py\u001b[0m in \u001b[0;36mextract_index\u001b[1;34m(data)\u001b[0m\n\u001b[0;32m    399\u001b[0m             \u001b[0mlengths\u001b[0m \u001b[1;33m=\u001b[0m \u001b[0mlist\u001b[0m\u001b[1;33m(\u001b[0m\u001b[0mset\u001b[0m\u001b[1;33m(\u001b[0m\u001b[0mraw_lengths\u001b[0m\u001b[1;33m)\u001b[0m\u001b[1;33m)\u001b[0m\u001b[1;33m\u001b[0m\u001b[1;33m\u001b[0m\u001b[0m\n\u001b[0;32m    400\u001b[0m             \u001b[1;32mif\u001b[0m \u001b[0mlen\u001b[0m\u001b[1;33m(\u001b[0m\u001b[0mlengths\u001b[0m\u001b[1;33m)\u001b[0m \u001b[1;33m>\u001b[0m \u001b[1;36m1\u001b[0m\u001b[1;33m:\u001b[0m\u001b[1;33m\u001b[0m\u001b[1;33m\u001b[0m\u001b[0m\n\u001b[1;32m--> 401\u001b[1;33m                 \u001b[1;32mraise\u001b[0m \u001b[0mValueError\u001b[0m\u001b[1;33m(\u001b[0m\u001b[1;34m\"arrays must all be same length\"\u001b[0m\u001b[1;33m)\u001b[0m\u001b[1;33m\u001b[0m\u001b[1;33m\u001b[0m\u001b[0m\n\u001b[0m\u001b[0;32m    402\u001b[0m \u001b[1;33m\u001b[0m\u001b[0m\n\u001b[0;32m    403\u001b[0m             \u001b[1;32mif\u001b[0m \u001b[0mhave_dicts\u001b[0m\u001b[1;33m:\u001b[0m\u001b[1;33m\u001b[0m\u001b[1;33m\u001b[0m\u001b[0m\n",
      "\u001b[1;31mValueError\u001b[0m: arrays must all be same length"
     ]
    }
   ],
   "metadata": {}
  },
  {
   "cell_type": "code",
   "execution_count": 7,
   "source": [
    "from resume_parser import resumeparse\r\n",
    "\r\n",
    "data = resumeparse.read_file('D:/FINAL YEAR PROJECT/Resumes/TestData/1.pdf')"
   ],
   "outputs": [],
   "metadata": {}
  },
  {
   "cell_type": "code",
   "execution_count": 8,
   "source": [
    "print(data)"
   ],
   "outputs": [
    {
     "output_type": "stream",
     "name": "stdout",
     "text": [
      "{'email': ':mikewanaswa@gmail.co', 'phone': '2285993', 'name': 'Personal Information', 'total_exp': 0, 'university': ['inoorero university'], 'designition': ['installer', 'associate', 'technician', 'field engineer'], 'degree': [], 'skills': ['(WIMAX', ' FIBER', ' MICROWAVES and Wi-Fi) for', 'SafaricomLtd.', ': Survey', ' Installation and Support of Ceragon’s IP20 Access Technology for', 'Airtel (K)', ': Survey ', ' Installation and Support of Cambridge P2MP Solutions for', 'Safaricom.', ': Fiber Optics Splicing and terminations', ' deployment', ' support and', 'maintenance', ': WAN/LAN Design', ' installation and Technical Support (Structured Cabling)', ': Installation and support for CCTV', ' IP Cameras', ' Biometrics Security Controls.', ': Installation and Support for RADWIN P2P Links and Ceragon PTMP', 'Links.', ': Installation and support for Telrad Wimax BTS', ': WI-FI setup', ' maintenance and Support.', ': E1 and SIP/VoIP installation and support', ': Systems Integration on Cisco', ' HP and Huawei Platforms for', 'MPLS', ' P2P', 'VPN and Internet.', ': Fixed LTE installation for Safaricom’s Enterprise clients.', 'Date :September 2010 - April2011', 'Position :Freelance ComputerTechnician', 'Employer : Self Employed inMombasa', 'Duties : Installation of software and hardware for PCs', ' Servers', 'Printers.', ': Web design and website maintenance.', ': Repair of PCs', ' Printers', ' Scanners and other computer accessories', ': LAN/WAN design', ' installation and support.', 'Date :March 2010 – August2010', 'Position :Scanning Officer/SystemAdministrator', 'Employer : Interim Independent ElectoralCommission', 'Duties : Scanning of OMR Forms to extract data for thevoters', ': Creation and maintenance of Voters’ database/Register', ': End User training and support on Voter Management System', ': MMC Administration/ Mail servers administration.', 'mailto:mikewanaswa@gmail.com', ': Network Management & Data Recovery', ': Repair and maintenance of Scanner', ' printers and Computers.', 'Date : January 2009 - March2010', 'Position :Freelance ComputerT e c h n i c i a n', ': LAN/WAN Support.'], 'Companies worked at': ['Cisco']}\n"
     ]
    }
   ],
   "metadata": {}
  },
  {
   "cell_type": "code",
   "execution_count": null,
   "source": [],
   "outputs": [],
   "metadata": {}
  }
 ]
}