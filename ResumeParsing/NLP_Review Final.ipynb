{
 "cells": [
  {
   "cell_type": "code",
   "execution_count": 1,
   "source": [
    "from gensim.models import Word2Vec\r\n",
    "import string\r\n",
    "import re\r\n",
    "from nltk.corpus import stopwords\r\n",
    "with open(r'F:/resume-ranking/skills.txt',encoding=\"utf8\") as f:\r\n",
    "    content = f.readlines()\r\n",
    "# you may also want to remove whitespace characters like `\\n` at the end of each line\r\n",
    "content = [x.strip() for x in content]"
   ],
   "outputs": [
    {
     "output_type": "stream",
     "name": "stderr",
     "text": [
      "C:\\Users\\FAITH KATHERINE\\AppData\\Local\\Programs\\Python\\Python37\\lib\\site-packages\\gensim\\utils.py:1197: UserWarning: detected Windows; aliasing chunkize to chunkize_serial\n",
      "  warnings.warn(\"detected Windows; aliasing chunkize to chunkize_serial\")\n"
     ]
    }
   ],
   "metadata": {}
  },
  {
   "cell_type": "code",
   "execution_count": 2,
   "source": [
    "content[1]"
   ],
   "outputs": [
    {
     "output_type": "execute_result",
     "data": {
      "text/plain": [
       "'Data science is a \"concept to unify statistics, data analysis, machine learning and their related methods\" in order to \"understand and analyze actual phenomena\" with data. It employs techniques and theories drawn from many fields within the context of mathematics, statistics, information science, and computer science. Turing award winner Jim Gray imagined data science as a \"fourth paradigm\" of science (empirical, theoretical, computational and now data-driven) and asserted that \"everything about science is changing because of the impact of information technology\" and the data deluge.'"
      ]
     },
     "metadata": {},
     "execution_count": 2
    }
   ],
   "metadata": {}
  },
  {
   "cell_type": "code",
   "execution_count": 3,
   "source": [
    "from nltk.tokenize import word_tokenize\r\n",
    "import gensim\r\n",
    "from gensim.models.phrases import Phraser, Phrases"
   ],
   "outputs": [],
   "metadata": {}
  },
  {
   "cell_type": "code",
   "execution_count": 4,
   "source": [
    "x=[]\r\n",
    "for line in content:\r\n",
    "    tokens=word_tokenize(line)\r\n",
    "    tok=[w.lower() for w in tokens]\r\n",
    "    table=str.maketrans('','',string.punctuation)\r\n",
    "    strpp=[w.translate(table) for w in tok]\r\n",
    "    words=[word for word in strpp if word.isalpha()]\r\n",
    "    stop_words=set(stopwords.words('english'))\r\n",
    "    words=[w for w in words if not w in stop_words]\r\n",
    "    x.append(words)"
   ],
   "outputs": [],
   "metadata": {}
  },
  {
   "cell_type": "code",
   "execution_count": 5,
   "source": [
    "texts=x"
   ],
   "outputs": [],
   "metadata": {}
  },
  {
   "cell_type": "code",
   "execution_count": 6,
   "source": [
    "print(texts[6])"
   ],
   "outputs": [
    {
     "output_type": "stream",
     "name": "stdout",
     "text": [
      "['william', 'cleveland', 'introduced', 'data', 'science', 'independent', 'discipline', 'extending', 'field', 'statistics', 'incorporate', 'advances', 'computing', 'data', 'article', 'data', 'science', 'action', 'plan', 'expanding', 'technical', 'areas', 'field', 'statistics', 'published', 'volume', 'april', 'edition', 'international', 'statistical', 'review', 'revue', 'internationale', 'de', 'statistique', 'report', 'cleveland', 'establishes', 'six', 'technical', 'areas', 'believed', 'encompass', 'field', 'data', 'science', 'multidisciplinary', 'investigations', 'models', 'methods', 'data', 'computing', 'data', 'pedagogy', 'tool', 'evaluation', 'theory']\n"
     ]
    }
   ],
   "metadata": {}
  },
  {
   "cell_type": "markdown",
   "source": [
    "**Removing commonly occuring words that are not useful**"
   ],
   "metadata": {}
  },
  {
   "cell_type": "code",
   "execution_count": 7,
   "source": [
    "with open('common.txt') as f:\r\n",
    "    content2 = f.read()\r\n",
    "ntexts=[]\r\n",
    "l=len(texts)\r\n",
    "for j in range(l):\r\n",
    "    s=texts[j]\r\n",
    "    res = [i for i in s if i not in content2]\r\n",
    "    ntexts.append(res)\r\n",
    "print(texts[6])\r\n",
    "\r\n",
    "    "
   ],
   "outputs": [
    {
     "output_type": "stream",
     "name": "stdout",
     "text": [
      "['william', 'cleveland', 'introduced', 'data', 'science', 'independent', 'discipline', 'extending', 'field', 'statistics', 'incorporate', 'advances', 'computing', 'data', 'article', 'data', 'science', 'action', 'plan', 'expanding', 'technical', 'areas', 'field', 'statistics', 'published', 'volume', 'april', 'edition', 'international', 'statistical', 'review', 'revue', 'internationale', 'de', 'statistique', 'report', 'cleveland', 'establishes', 'six', 'technical', 'areas', 'believed', 'encompass', 'field', 'data', 'science', 'multidisciplinary', 'investigations', 'models', 'methods', 'data', 'computing', 'data', 'pedagogy', 'tool', 'evaluation', 'theory']\n"
     ]
    }
   ],
   "metadata": {}
  },
  {
   "cell_type": "code",
   "execution_count": 8,
   "source": [
    "print(ntexts[6])"
   ],
   "outputs": [
    {
     "output_type": "stream",
     "name": "stdout",
     "text": [
      "['william', 'cleveland', 'introduced', 'data', 'science', 'independent', 'discipline', 'extending', 'field', 'statistics', 'incorporate', 'advances', 'computing', 'data', 'article', 'data', 'science', 'action', 'plan', 'expanding', 'technical', 'areas', 'field', 'statistics', 'published', 'volume', 'april', 'edition', 'international', 'statistical', 'review', 'revue', 'internationale', 'de', 'statistique', 'report', 'cleveland', 'establishes', 'six', 'technical', 'areas', 'believed', 'encompass', 'field', 'data', 'science', 'multidisciplinary', 'investigations', 'models', 'methods', 'data', 'computing', 'data', 'pedagogy', 'tool', 'evaluation', 'theory']\n"
     ]
    }
   ],
   "metadata": {}
  },
  {
   "cell_type": "code",
   "execution_count": 9,
   "source": [
    "print(len(ntexts))\r\n",
    "texts=ntexts"
   ],
   "outputs": [
    {
     "output_type": "stream",
     "name": "stdout",
     "text": [
      "316\n"
     ]
    }
   ],
   "metadata": {}
  },
  {
   "cell_type": "code",
   "execution_count": 10,
   "source": [
    "content=texts"
   ],
   "outputs": [],
   "metadata": {}
  },
  {
   "cell_type": "markdown",
   "source": [
    "**Creating bigrams**"
   ],
   "metadata": {}
  },
  {
   "cell_type": "code",
   "execution_count": 11,
   "source": [
    "common_terms = [\"of\", \"with\", \"without\", \"and\", \"or\", \"the\", \"a\"]\r\n",
    "x=ntexts\r\n",
    "# Create the relevant phrases from the list of sentences:\r\n",
    "phrases = Phrases(x, common_terms=common_terms)\r\n",
    "# The Phraser object is used from now on to transform sentences\r\n",
    "bigram = Phraser(phrases)\r\n",
    "# Applying the Phraser to transform our sentences\r\n",
    "all_sentences = list(bigram[x])\r\n",
    "model=gensim.models.Word2Vec(all_sentences,size=5000,min_count=2,workers=4,window=4)\r\n",
    "model.save(\"final.model\")\r\n",
    "wrds=list(model.wv.vocab)\r\n",
    "print(len(wrds))"
   ],
   "outputs": [
    {
     "output_type": "stream",
     "name": "stderr",
     "text": [
      "C:\\Users\\FAITH KATHERINE\\AppData\\Local\\Programs\\Python\\Python37\\lib\\site-packages\\gensim\\models\\base_any2vec.py:323: UserWarning: C extension not loaded, training will be slow. Install a C compiler and reinstall gensim for fast training.\n",
      "  \"C extension not loaded, training will be slow. \"\n"
     ]
    },
    {
     "output_type": "stream",
     "name": "stdout",
     "text": [
      "1240\n"
     ]
    }
   ],
   "metadata": {}
  },
  {
   "cell_type": "markdown",
   "source": [
    "**Testing**"
   ],
   "metadata": {}
  },
  {
   "cell_type": "code",
   "execution_count": 12,
   "source": [
    "z=model.wv.most_similar(\"machine_learning\")"
   ],
   "outputs": [],
   "metadata": {}
  },
  {
   "cell_type": "code",
   "execution_count": 13,
   "source": [
    "print(z)"
   ],
   "outputs": [
    {
     "output_type": "stream",
     "name": "stdout",
     "text": [
      "[('system', 0.13348495960235596), ('development', 0.13225235044956207), ('information', 0.12860742211341858), ('may', 0.12439693510532379), ('deep_neural', 0.1224866509437561), ('methods', 0.12215884029865265), ('code', 0.11777926236391068), ('used', 0.11753009259700775), ('deep_learning', 0.11723548173904419), ('software', 0.11537247151136398)]\n"
     ]
    }
   ],
   "metadata": {}
  },
  {
   "cell_type": "markdown",
   "source": [
    "### Resume Parsing"
   ],
   "metadata": {}
  },
  {
   "cell_type": "code",
   "execution_count": 14,
   "source": [
    "import PyPDF2\r\n",
    "import os\r\n",
    "import collections\r\n",
    "from os import listdir\r\n",
    "from os.path import isfile, join\r\n",
    "from io import StringIO\r\n",
    "import pandas as pd\r\n",
    "from collections import Counter\r\n",
    "import en_core_web_sm\r\n",
    "nlp = en_core_web_sm.load()\r\n",
    "from spacy.matcher import PhraseMatcher"
   ],
   "outputs": [],
   "metadata": {}
  },
  {
   "cell_type": "markdown",
   "source": [
    "**Reading Resumes from folder**"
   ],
   "metadata": {}
  },
  {
   "cell_type": "code",
   "execution_count": 15,
   "source": [
    "mypath=r'D:/FINAL YEAR PROJECT/Resumes/NewTestData'\r\n",
    "#Path for the files\r\n",
    "onlyfiles = [os.path.join(mypath, f) for f in os.listdir(mypath) if os.path.isfile(os.path.join(mypath, f))]\r\n"
   ],
   "outputs": [],
   "metadata": {}
  },
  {
   "cell_type": "markdown",
   "source": [
    "**Function to words from resume**"
   ],
   "metadata": {}
  },
  {
   "cell_type": "code",
   "execution_count": 16,
   "source": [
    "import collections\r\n",
    "'''def pdfextract(file):\r\n",
    "    pdf_file = open(file, 'rb')\r\n",
    "    read_pdf = PyPDF2.PdfFileReader(pdf_file)\r\n",
    "    number_of_pages = read_pdf.getNumPages()\r\n",
    "    c = collections.Counter(range(number_of_pages))\r\n",
    "    for i in c:\r\n",
    "        #page\r\n",
    "        page = read_pdf.getPage(i)\r\n",
    "        page_content = page.extractText()\r\n",
    "    return (page_content.encode('utf-8'))'''\r\n",
    "\r\n",
    "def pdfextract(file):\r\n",
    "    dummy=''\r\n",
    "    pdffile=open(file,'rb')\r\n",
    "    pdfReader=PyPDF2.PdfFileReader(pdffile)\r\n",
    "    count=(pdfReader.numPages)\r\n",
    "    for i in range(count):\r\n",
    "        pageObj=pdfReader.getPage(i)\r\n",
    "        dummy+=(pageObj.extractText())\r\n",
    "    return(dummy)"
   ],
   "outputs": [],
   "metadata": {}
  },
  {
   "cell_type": "code",
   "execution_count": 17,
   "source": [
    "sim_words=[k[0] for k in model.wv.most_similar(\"machine_learning\")]"
   ],
   "outputs": [],
   "metadata": {}
  },
  {
   "cell_type": "code",
   "execution_count": 18,
   "source": [
    "def create_bigram(words):\r\n",
    "    common_terms = [\"of\", \"with\", \"without\", \"and\", \"or\", \"the\", \"a\"]\r\n",
    "    x=words.split()\r\n",
    "# Create the relevant phrases from the list of sentences:\r\n",
    "    phrases = Phrases(x, common_terms=common_terms)\r\n",
    "# The Phraser object is used from now on to transform sentences\r\n",
    "    bigram = Phraser(phrases)\r\n",
    "# Applying the Phraser to transform our sentences is simply\r\n",
    "    all_sentences = list(bigram[x])\r\n",
    "    \r\n",
    "    "
   ],
   "outputs": [],
   "metadata": {}
  },
  {
   "cell_type": "markdown",
   "source": [
    "**Function to build candidate profile**"
   ],
   "metadata": {}
  },
  {
   "cell_type": "code",
   "execution_count": 19,
   "source": [
    "def create_profile(file):\r\n",
    "    model=Word2Vec.load(\"final.model\")\r\n",
    "    text = str(pdfextract(file))\r\n",
    "    text = text.replace(\"\\\\n\", \"\")\r\n",
    "    text = text.lower()\r\n",
    "    #print(text)\r\n",
    "    #text=create_bigram(text)\r\n",
    "    #print(text)\r\n",
    "    #below is the csv where we have all the keywords, you can customize your own\r\n",
    "    #keyword_dictionary = pd.read_csv(r'C:\\Users\\dell\\Desktop\\New folder\\ML_CS\\NLP\\technical_skills.csv')\r\n",
    "    stats = [nlp(text[0]) for text in model.wv.most_similar(\"statistics\")]\r\n",
    "    NLP = [nlp(text[0]) for text in model.wv.most_similar(\"language\")]\r\n",
    "    ML = [nlp(text[0]) for text in model.wv.most_similar(\"machine_learning\")]\r\n",
    "    DL = [nlp(text[0]) for text in model.wv.most_similar(\"deep\")]\r\n",
    "    #R = [nlp(text) for text in keyword_dictionary['R Language'].dropna(axis = 0)]\r\n",
    "    python = [nlp(text[0]) for text in model.wv.most_similar(\"python\")]\r\n",
    "    Data_Engineering = [nlp(text[0]) for text in model.wv.most_similar(\"data\")]\r\n",
    "    print(\"*******************************************\")\r\n",
    "    #print(stats_words,NLP_words)\r\n",
    "    matcher = PhraseMatcher(nlp.vocab)\r\n",
    "    matcher.add('Stats', None, *stats)\r\n",
    "    matcher.add('NLP', None, *NLP)\r\n",
    "    matcher.add('ML', None, *ML)\r\n",
    "    matcher.add('DL', None, *DL)\r\n",
    "    matcher.add('Python', None, *python)\r\n",
    "    matcher.add('DE', None, *Data_Engineering)\r\n",
    "    doc = nlp(text)\r\n",
    "    \r\n",
    "    d = []  \r\n",
    "    matches = matcher(doc)\r\n",
    "    for match_id, start, end in matches:\r\n",
    "        rule_id = nlp.vocab.strings[match_id]  # get the unicode I\r\n",
    "        span = doc[start : end]               # get the matched slice of the doc\r\n",
    "        d.append((rule_id, span.text))      \r\n",
    "    keywords = \"\\n\".join(f'{i[0]} {i[1]} ({j})' for i,j in Counter(d).items())\r\n",
    "    print(\"KEYWORDS\")\r\n",
    "    print(keywords)\r\n",
    "    \r\n",
    "    ## convertimg string of keywords to dataframe\r\n",
    "    df = pd.read_csv(StringIO(keywords),names = ['Keywords_List'])\r\n",
    "    df1 = pd.DataFrame(df.Keywords_List.str.split(' ',1).tolist(),columns = ['Subject','Keyword'])\r\n",
    "    df2 = pd.DataFrame(df1.Keyword.str.split('(',1).tolist(),columns = ['Keyword', 'Count'])\r\n",
    "    df3 = pd.concat([df1['Subject'],df2['Keyword'], df2['Count']], axis =1) \r\n",
    "    df3['Count'] = df3['Count'].apply(lambda x: x.rstrip(\")\"))\r\n",
    "    print(\"********************DF********************\")\r\n",
    "    print(df)\r\n",
    "    \r\n",
    "    base = os.path.basename(file)\r\n",
    "    filename = os.path.splitext(base)[0]\r\n",
    "    \r\n",
    "       \r\n",
    "    name = filename.split('_')\r\n",
    "    print(name)\r\n",
    "    name2 = name[0]\r\n",
    "    name2 = name2.lower()\r\n",
    "    ## converting str to dataframe\r\n",
    "    name3 = pd.read_csv(StringIO(name2),names = ['Candidate Name'])\r\n",
    "    \r\n",
    "    dataf = pd.concat([name3['Candidate Name'], df3['Subject'], df3['Keyword'], df3['Count']], axis = 1)\r\n",
    "    dataf['Candidate Name'].fillna(dataf['Candidate Name'].iloc[0], inplace = True)\r\n",
    "    print(\"******************DATAF**************\")\r\n",
    "    print(dataf)\r\n",
    "\r\n",
    "    return(dataf)"
   ],
   "outputs": [],
   "metadata": {}
  },
  {
   "cell_type": "markdown",
   "source": [
    "**Code to execute the above functions**"
   ],
   "metadata": {}
  },
  {
   "cell_type": "code",
   "execution_count": 20,
   "source": [
    "#Code to execute the above functions \r\n",
    "final_db=pd.DataFrame()\r\n",
    "i=0\r\n",
    "while i < len(onlyfiles):\r\n",
    "    file=onlyfiles[i]\r\n",
    "    dat=create_profile(file)\r\n",
    "\r\n",
    "    final_db=final_db.append(dat)\r\n",
    "    i+=1\r\n",
    "    #print(final_db)"
   ],
   "outputs": [
    {
     "output_type": "stream",
     "name": "stdout",
     "text": [
      "*******************************************\n",
      "KEYWORDS\n",
      "\n",
      "********************DF********************\n",
      "Empty DataFrame\n",
      "Columns: [Keywords_List]\n",
      "Index: []\n",
      "['1']\n",
      "******************DATAF**************\n",
      "   Candidate Name Subject Keyword Count\n",
      "0               1     NaN     NaN   NaN\n",
      "*******************************************\n",
      "KEYWORDS\n",
      "\n",
      "********************DF********************\n",
      "Empty DataFrame\n",
      "Columns: [Keywords_List]\n",
      "Index: []\n",
      "['10']\n",
      "******************DATAF**************\n",
      "   Candidate Name Subject Keyword Count\n",
      "0              10     NaN     NaN   NaN\n",
      "*******************************************\n",
      "KEYWORDS\n",
      "Stats programming (1)\n",
      "DE language (2)\n",
      "Python language (2)\n",
      "ML information (1)\n",
      "NLP information (1)\n",
      "Stats information (1)\n",
      "DE information (1)\n",
      "DL information (1)\n",
      "********************DF********************\n",
      "           Keywords_List\n",
      "0  Stats programming (1)\n",
      "1        DE language (2)\n",
      "2    Python language (2)\n",
      "3     ML information (1)\n",
      "4    NLP information (1)\n",
      "5  Stats information (1)\n",
      "6     DE information (1)\n",
      "7     DL information (1)\n",
      "['2']\n",
      "******************DATAF**************\n",
      "   Candidate Name Subject       Keyword Count\n",
      "0             2.0   Stats  programming      1\n",
      "1             2.0      DE     language      2\n",
      "2             2.0  Python     language      2\n",
      "3             2.0      ML  information      1\n",
      "4             2.0     NLP  information      1\n",
      "5             2.0   Stats  information      1\n",
      "6             2.0      DE  information      1\n",
      "7             2.0      DL  information      1\n",
      "*******************************************\n",
      "KEYWORDS\n",
      "\n",
      "********************DF********************\n",
      "Empty DataFrame\n",
      "Columns: [Keywords_List]\n",
      "Index: []\n",
      "['3']\n",
      "******************DATAF**************\n",
      "   Candidate Name Subject Keyword Count\n",
      "0               3     NaN     NaN   NaN\n",
      "*******************************************\n",
      "KEYWORDS\n",
      "\n",
      "********************DF********************\n",
      "Empty DataFrame\n",
      "Columns: [Keywords_List]\n",
      "Index: []\n",
      "['4']\n",
      "******************DATAF**************\n",
      "   Candidate Name Subject Keyword Count\n",
      "0               4     NaN     NaN   NaN\n",
      "*******************************************\n",
      "KEYWORDS\n",
      "\n",
      "********************DF********************\n",
      "Empty DataFrame\n",
      "Columns: [Keywords_List]\n",
      "Index: []\n",
      "['5']\n",
      "******************DATAF**************\n",
      "   Candidate Name Subject Keyword Count\n",
      "0               5     NaN     NaN   NaN\n",
      "*******************************************\n",
      "KEYWORDS\n",
      "\n",
      "********************DF********************\n",
      "Empty DataFrame\n",
      "Columns: [Keywords_List]\n",
      "Index: []\n",
      "['6']\n",
      "******************DATAF**************\n",
      "   Candidate Name Subject Keyword Count\n",
      "0               6     NaN     NaN   NaN\n",
      "*******************************************\n",
      "KEYWORDS\n",
      "\n",
      "********************DF********************\n",
      "Empty DataFrame\n",
      "Columns: [Keywords_List]\n",
      "Index: []\n",
      "['7']\n",
      "******************DATAF**************\n",
      "   Candidate Name Subject Keyword Count\n",
      "0               7     NaN     NaN   NaN\n",
      "*******************************************\n",
      "KEYWORDS\n",
      "ML system (1)\n",
      "NLP system (1)\n",
      "Stats system (1)\n",
      "DE system (1)\n",
      "DL system (1)\n",
      "Python system (1)\n",
      "Stats analysis (1)\n",
      "Python research (1)\n",
      "ML may (1)\n",
      "NLP may (1)\n",
      "Stats may (1)\n",
      "DE may (1)\n",
      "DL may (1)\n",
      "Python may (1)\n",
      "NLP data (1)\n",
      "DL data (1)\n",
      "Python data (1)\n",
      "ML information (1)\n",
      "NLP information (1)\n",
      "Stats information (1)\n",
      "DE information (1)\n",
      "DL information (1)\n",
      "********************DF********************\n",
      "            Keywords_List\n",
      "0           ML system (1)\n",
      "1          NLP system (1)\n",
      "2        Stats system (1)\n",
      "3           DE system (1)\n",
      "4           DL system (1)\n",
      "5       Python system (1)\n",
      "6      Stats analysis (1)\n",
      "7     Python research (1)\n",
      "8              ML may (1)\n",
      "9             NLP may (1)\n",
      "10          Stats may (1)\n",
      "11             DE may (1)\n",
      "12             DL may (1)\n",
      "13         Python may (1)\n",
      "14           NLP data (1)\n",
      "15            DL data (1)\n",
      "16        Python data (1)\n",
      "17     ML information (1)\n",
      "18    NLP information (1)\n",
      "19  Stats information (1)\n",
      "20     DE information (1)\n",
      "21     DL information (1)\n",
      "['8']\n",
      "******************DATAF**************\n",
      "    Candidate Name Subject       Keyword Count\n",
      "0              8.0      ML       system      1\n",
      "1              8.0     NLP       system      1\n",
      "2              8.0   Stats       system      1\n",
      "3              8.0      DE       system      1\n",
      "4              8.0      DL       system      1\n",
      "5              8.0  Python       system      1\n",
      "6              8.0   Stats     analysis      1\n",
      "7              8.0  Python     research      1\n",
      "8              8.0      ML          may      1\n",
      "9              8.0     NLP          may      1\n",
      "10             8.0   Stats          may      1\n",
      "11             8.0      DE          may      1\n",
      "12             8.0      DL          may      1\n",
      "13             8.0  Python          may      1\n",
      "14             8.0     NLP         data      1\n",
      "15             8.0      DL         data      1\n",
      "16             8.0  Python         data      1\n",
      "17             8.0      ML  information      1\n",
      "18             8.0     NLP  information      1\n",
      "19             8.0   Stats  information      1\n",
      "20             8.0      DE  information      1\n",
      "21             8.0      DL  information      1\n",
      "*******************************************\n",
      "KEYWORDS\n",
      "\n",
      "********************DF********************\n",
      "Empty DataFrame\n",
      "Columns: [Keywords_List]\n",
      "Index: []\n",
      "['9']\n",
      "******************DATAF**************\n",
      "   Candidate Name Subject Keyword Count\n",
      "0               9     NaN     NaN   NaN\n"
     ]
    },
    {
     "output_type": "error",
     "ename": "PdfReadError",
     "evalue": "EOF marker not found",
     "traceback": [
      "\u001b[1;31m---------------------------------------------------------------------------\u001b[0m",
      "\u001b[1;31mPdfReadError\u001b[0m                              Traceback (most recent call last)",
      "\u001b[1;32m<ipython-input-20-97dc13f62689>\u001b[0m in \u001b[0;36m<module>\u001b[1;34m\u001b[0m\n\u001b[0;32m      4\u001b[0m \u001b[1;32mwhile\u001b[0m \u001b[0mi\u001b[0m \u001b[1;33m<\u001b[0m \u001b[0mlen\u001b[0m\u001b[1;33m(\u001b[0m\u001b[0monlyfiles\u001b[0m\u001b[1;33m)\u001b[0m\u001b[1;33m:\u001b[0m\u001b[1;33m\u001b[0m\u001b[1;33m\u001b[0m\u001b[0m\n\u001b[0;32m      5\u001b[0m     \u001b[0mfile\u001b[0m\u001b[1;33m=\u001b[0m\u001b[0monlyfiles\u001b[0m\u001b[1;33m[\u001b[0m\u001b[0mi\u001b[0m\u001b[1;33m]\u001b[0m\u001b[1;33m\u001b[0m\u001b[1;33m\u001b[0m\u001b[0m\n\u001b[1;32m----> 6\u001b[1;33m     \u001b[0mdat\u001b[0m\u001b[1;33m=\u001b[0m\u001b[0mcreate_profile\u001b[0m\u001b[1;33m(\u001b[0m\u001b[0mfile\u001b[0m\u001b[1;33m)\u001b[0m\u001b[1;33m\u001b[0m\u001b[1;33m\u001b[0m\u001b[0m\n\u001b[0m\u001b[0;32m      7\u001b[0m \u001b[1;33m\u001b[0m\u001b[0m\n\u001b[0;32m      8\u001b[0m     \u001b[0mfinal_db\u001b[0m\u001b[1;33m=\u001b[0m\u001b[0mfinal_db\u001b[0m\u001b[1;33m.\u001b[0m\u001b[0mappend\u001b[0m\u001b[1;33m(\u001b[0m\u001b[0mdat\u001b[0m\u001b[1;33m)\u001b[0m\u001b[1;33m\u001b[0m\u001b[1;33m\u001b[0m\u001b[0m\n",
      "\u001b[1;32m<ipython-input-19-b80154ce9cd6>\u001b[0m in \u001b[0;36mcreate_profile\u001b[1;34m(file)\u001b[0m\n\u001b[0;32m      1\u001b[0m \u001b[1;32mdef\u001b[0m \u001b[0mcreate_profile\u001b[0m\u001b[1;33m(\u001b[0m\u001b[0mfile\u001b[0m\u001b[1;33m)\u001b[0m\u001b[1;33m:\u001b[0m\u001b[1;33m\u001b[0m\u001b[1;33m\u001b[0m\u001b[0m\n\u001b[0;32m      2\u001b[0m     \u001b[0mmodel\u001b[0m\u001b[1;33m=\u001b[0m\u001b[0mWord2Vec\u001b[0m\u001b[1;33m.\u001b[0m\u001b[0mload\u001b[0m\u001b[1;33m(\u001b[0m\u001b[1;34m\"final.model\"\u001b[0m\u001b[1;33m)\u001b[0m\u001b[1;33m\u001b[0m\u001b[1;33m\u001b[0m\u001b[0m\n\u001b[1;32m----> 3\u001b[1;33m     \u001b[0mtext\u001b[0m \u001b[1;33m=\u001b[0m \u001b[0mstr\u001b[0m\u001b[1;33m(\u001b[0m\u001b[0mpdfextract\u001b[0m\u001b[1;33m(\u001b[0m\u001b[0mfile\u001b[0m\u001b[1;33m)\u001b[0m\u001b[1;33m)\u001b[0m\u001b[1;33m\u001b[0m\u001b[1;33m\u001b[0m\u001b[0m\n\u001b[0m\u001b[0;32m      4\u001b[0m     \u001b[0mtext\u001b[0m \u001b[1;33m=\u001b[0m \u001b[0mtext\u001b[0m\u001b[1;33m.\u001b[0m\u001b[0mreplace\u001b[0m\u001b[1;33m(\u001b[0m\u001b[1;34m\"\\\\n\"\u001b[0m\u001b[1;33m,\u001b[0m \u001b[1;34m\"\"\u001b[0m\u001b[1;33m)\u001b[0m\u001b[1;33m\u001b[0m\u001b[1;33m\u001b[0m\u001b[0m\n\u001b[0;32m      5\u001b[0m     \u001b[0mtext\u001b[0m \u001b[1;33m=\u001b[0m \u001b[0mtext\u001b[0m\u001b[1;33m.\u001b[0m\u001b[0mlower\u001b[0m\u001b[1;33m(\u001b[0m\u001b[1;33m)\u001b[0m\u001b[1;33m\u001b[0m\u001b[1;33m\u001b[0m\u001b[0m\n",
      "\u001b[1;32m<ipython-input-16-410d49d0251e>\u001b[0m in \u001b[0;36mpdfextract\u001b[1;34m(file)\u001b[0m\n\u001b[0;32m     14\u001b[0m     \u001b[0mdummy\u001b[0m\u001b[1;33m=\u001b[0m\u001b[1;34m''\u001b[0m\u001b[1;33m\u001b[0m\u001b[1;33m\u001b[0m\u001b[0m\n\u001b[0;32m     15\u001b[0m     \u001b[0mpdffile\u001b[0m\u001b[1;33m=\u001b[0m\u001b[0mopen\u001b[0m\u001b[1;33m(\u001b[0m\u001b[0mfile\u001b[0m\u001b[1;33m,\u001b[0m\u001b[1;34m'rb'\u001b[0m\u001b[1;33m)\u001b[0m\u001b[1;33m\u001b[0m\u001b[1;33m\u001b[0m\u001b[0m\n\u001b[1;32m---> 16\u001b[1;33m     \u001b[0mpdfReader\u001b[0m\u001b[1;33m=\u001b[0m\u001b[0mPyPDF2\u001b[0m\u001b[1;33m.\u001b[0m\u001b[0mPdfFileReader\u001b[0m\u001b[1;33m(\u001b[0m\u001b[0mpdffile\u001b[0m\u001b[1;33m)\u001b[0m\u001b[1;33m\u001b[0m\u001b[1;33m\u001b[0m\u001b[0m\n\u001b[0m\u001b[0;32m     17\u001b[0m     \u001b[0mcount\u001b[0m\u001b[1;33m=\u001b[0m\u001b[1;33m(\u001b[0m\u001b[0mpdfReader\u001b[0m\u001b[1;33m.\u001b[0m\u001b[0mnumPages\u001b[0m\u001b[1;33m)\u001b[0m\u001b[1;33m\u001b[0m\u001b[1;33m\u001b[0m\u001b[0m\n\u001b[0;32m     18\u001b[0m     \u001b[1;32mfor\u001b[0m \u001b[0mi\u001b[0m \u001b[1;32min\u001b[0m \u001b[0mrange\u001b[0m\u001b[1;33m(\u001b[0m\u001b[0mcount\u001b[0m\u001b[1;33m)\u001b[0m\u001b[1;33m:\u001b[0m\u001b[1;33m\u001b[0m\u001b[1;33m\u001b[0m\u001b[0m\n",
      "\u001b[1;32m~\\AppData\\Local\\Programs\\Python\\Python37\\lib\\site-packages\\PyPDF2\\pdf.py\u001b[0m in \u001b[0;36m__init__\u001b[1;34m(self, stream, strict, warndest, overwriteWarnings)\u001b[0m\n\u001b[0;32m   1082\u001b[0m             \u001b[0mstream\u001b[0m \u001b[1;33m=\u001b[0m \u001b[0mBytesIO\u001b[0m\u001b[1;33m(\u001b[0m\u001b[0mb_\u001b[0m\u001b[1;33m(\u001b[0m\u001b[0mfileobj\u001b[0m\u001b[1;33m.\u001b[0m\u001b[0mread\u001b[0m\u001b[1;33m(\u001b[0m\u001b[1;33m)\u001b[0m\u001b[1;33m)\u001b[0m\u001b[1;33m)\u001b[0m\u001b[1;33m\u001b[0m\u001b[1;33m\u001b[0m\u001b[0m\n\u001b[0;32m   1083\u001b[0m             \u001b[0mfileobj\u001b[0m\u001b[1;33m.\u001b[0m\u001b[0mclose\u001b[0m\u001b[1;33m(\u001b[0m\u001b[1;33m)\u001b[0m\u001b[1;33m\u001b[0m\u001b[1;33m\u001b[0m\u001b[0m\n\u001b[1;32m-> 1084\u001b[1;33m         \u001b[0mself\u001b[0m\u001b[1;33m.\u001b[0m\u001b[0mread\u001b[0m\u001b[1;33m(\u001b[0m\u001b[0mstream\u001b[0m\u001b[1;33m)\u001b[0m\u001b[1;33m\u001b[0m\u001b[1;33m\u001b[0m\u001b[0m\n\u001b[0m\u001b[0;32m   1085\u001b[0m         \u001b[0mself\u001b[0m\u001b[1;33m.\u001b[0m\u001b[0mstream\u001b[0m \u001b[1;33m=\u001b[0m \u001b[0mstream\u001b[0m\u001b[1;33m\u001b[0m\u001b[1;33m\u001b[0m\u001b[0m\n\u001b[0;32m   1086\u001b[0m \u001b[1;33m\u001b[0m\u001b[0m\n",
      "\u001b[1;32m~\\AppData\\Local\\Programs\\Python\\Python37\\lib\\site-packages\\PyPDF2\\pdf.py\u001b[0m in \u001b[0;36mread\u001b[1;34m(self, stream)\u001b[0m\n\u001b[0;32m   1694\u001b[0m         \u001b[1;32mwhile\u001b[0m \u001b[0mline\u001b[0m\u001b[1;33m[\u001b[0m\u001b[1;33m:\u001b[0m\u001b[1;36m5\u001b[0m\u001b[1;33m]\u001b[0m \u001b[1;33m!=\u001b[0m \u001b[0mb_\u001b[0m\u001b[1;33m(\u001b[0m\u001b[1;34m\"%%EOF\"\u001b[0m\u001b[1;33m)\u001b[0m\u001b[1;33m:\u001b[0m\u001b[1;33m\u001b[0m\u001b[1;33m\u001b[0m\u001b[0m\n\u001b[0;32m   1695\u001b[0m             \u001b[1;32mif\u001b[0m \u001b[0mstream\u001b[0m\u001b[1;33m.\u001b[0m\u001b[0mtell\u001b[0m\u001b[1;33m(\u001b[0m\u001b[1;33m)\u001b[0m \u001b[1;33m<\u001b[0m \u001b[0mlast1K\u001b[0m\u001b[1;33m:\u001b[0m\u001b[1;33m\u001b[0m\u001b[1;33m\u001b[0m\u001b[0m\n\u001b[1;32m-> 1696\u001b[1;33m                 \u001b[1;32mraise\u001b[0m \u001b[0mutils\u001b[0m\u001b[1;33m.\u001b[0m\u001b[0mPdfReadError\u001b[0m\u001b[1;33m(\u001b[0m\u001b[1;34m\"EOF marker not found\"\u001b[0m\u001b[1;33m)\u001b[0m\u001b[1;33m\u001b[0m\u001b[1;33m\u001b[0m\u001b[0m\n\u001b[0m\u001b[0;32m   1697\u001b[0m             \u001b[0mline\u001b[0m \u001b[1;33m=\u001b[0m \u001b[0mself\u001b[0m\u001b[1;33m.\u001b[0m\u001b[0mreadNextEndLine\u001b[0m\u001b[1;33m(\u001b[0m\u001b[0mstream\u001b[0m\u001b[1;33m)\u001b[0m\u001b[1;33m\u001b[0m\u001b[1;33m\u001b[0m\u001b[0m\n\u001b[0;32m   1698\u001b[0m             \u001b[1;32mif\u001b[0m \u001b[0mdebug\u001b[0m\u001b[1;33m:\u001b[0m \u001b[0mprint\u001b[0m\u001b[1;33m(\u001b[0m\u001b[1;34m\"  line:\"\u001b[0m\u001b[1;33m,\u001b[0m\u001b[0mline\u001b[0m\u001b[1;33m)\u001b[0m\u001b[1;33m\u001b[0m\u001b[1;33m\u001b[0m\u001b[0m\n",
      "\u001b[1;31mPdfReadError\u001b[0m: EOF marker not found"
     ]
    }
   ],
   "metadata": {}
  },
  {
   "cell_type": "markdown",
   "source": [
    "**Counting words under each category and building the candidate profile**"
   ],
   "metadata": {}
  },
  {
   "cell_type": "code",
   "execution_count": 21,
   "source": [
    "#Code to count words under each category and visualize it through MAtplotlib\r\n",
    "final_db2 = final_db['Keyword'].groupby([final_db['Candidate Name'], final_db['Subject']]).count().unstack()\r\n",
    "final_db2.reset_index(inplace = True)\r\n",
    "final_db2.fillna(0,inplace=True)\r\n",
    "candidate_data = final_db2.iloc[:,1:]\r\n",
    "candidate_data.index = final_db2['Candidate Name']\r\n",
    "#the candidate profile in a csv format\r\n",
    "cand=candidate_data.to_csv('candidate_profile.csv')\r\n",
    "cand_profile=pd.read_csv('candidate_profile.csv')\r\n",
    "cand_profile"
   ],
   "outputs": [
    {
     "output_type": "execute_result",
     "data": {
      "text/html": [
       "<div>\n",
       "<style scoped>\n",
       "    .dataframe tbody tr th:only-of-type {\n",
       "        vertical-align: middle;\n",
       "    }\n",
       "\n",
       "    .dataframe tbody tr th {\n",
       "        vertical-align: top;\n",
       "    }\n",
       "\n",
       "    .dataframe thead th {\n",
       "        text-align: right;\n",
       "    }\n",
       "</style>\n",
       "<table border=\"1\" class=\"dataframe\">\n",
       "  <thead>\n",
       "    <tr style=\"text-align: right;\">\n",
       "      <th></th>\n",
       "      <th>Candidate Name</th>\n",
       "      <th>DE</th>\n",
       "      <th>DL</th>\n",
       "      <th>ML</th>\n",
       "      <th>NLP</th>\n",
       "      <th>Python</th>\n",
       "      <th>Stats</th>\n",
       "    </tr>\n",
       "  </thead>\n",
       "  <tbody>\n",
       "    <tr>\n",
       "      <th>0</th>\n",
       "      <td>2.0</td>\n",
       "      <td>2</td>\n",
       "      <td>1</td>\n",
       "      <td>1</td>\n",
       "      <td>1</td>\n",
       "      <td>1</td>\n",
       "      <td>2</td>\n",
       "    </tr>\n",
       "    <tr>\n",
       "      <th>1</th>\n",
       "      <td>8.0</td>\n",
       "      <td>3</td>\n",
       "      <td>4</td>\n",
       "      <td>3</td>\n",
       "      <td>4</td>\n",
       "      <td>4</td>\n",
       "      <td>4</td>\n",
       "    </tr>\n",
       "  </tbody>\n",
       "</table>\n",
       "</div>"
      ],
      "text/plain": [
       "   Candidate Name  DE  DL  ML  NLP  Python  Stats\n",
       "0             2.0   2   1   1    1       1      2\n",
       "1             8.0   3   4   3    4       4      4"
      ]
     },
     "metadata": {},
     "execution_count": 21
    }
   ],
   "metadata": {}
  },
  {
   "cell_type": "markdown",
   "source": [
    "**Visualizing by matplotlib**"
   ],
   "metadata": {}
  },
  {
   "cell_type": "code",
   "execution_count": 22,
   "source": [
    "import matplotlib.pyplot as plt\r\n",
    "%matplotlib inline\r\n",
    "plt.rcParams.update({'font.size': 20})\r\n",
    "ax = candidate_data.plot.barh(title=\"Keywords in Resume according to category\", legend=False, figsize=(25,7), stacked=True)\r\n",
    "skills = []\r\n",
    "for j in candidate_data.columns:\r\n",
    "    for i in candidate_data.index:\r\n",
    "        skill = str(j)+\": \" + str(candidate_data.loc[i][j])\r\n",
    "        skills.append(skill)\r\n",
    "patches = ax.patches\r\n",
    "for skill, rect in zip(skills, patches):\r\n",
    "    width = rect.get_width()\r\n",
    "    if width > 0:\r\n",
    "        x = rect.get_x()\r\n",
    "        y = rect.get_y()\r\n",
    "        height = rect.get_height()\r\n",
    "        ax.text(x + width/2., y + height/2., skill, ha='center', va='center')\r\n",
    "plt.show()"
   ],
   "outputs": [
    {
     "output_type": "display_data",
     "data": {
      "image/png": "[encoded data removed]",
      "text/plain": [
       "<Figure size 1800x504 with 1 Axes>"
      ]
     },
     "metadata": {
      "needs_background": "light"
     }
    }
   ],
   "metadata": {}
  }
 ],
 "metadata": {
  "kernelspec": {
   "name": ".venv",
   "display_name": ".venv",
   "language": "python"
  },
  "interpreter": {
   "hash": "83c81250742688ff467ca0520eff071d3643ef1d2af42510597b728483f832c8"
  },
  "language_info": {
   "name": "python",
   "version": "3.7.4",
   "mimetype": "text/x-python",
   "codemirror_mode": {
    "name": "ipython",
    "version": 3
   },
   "pygments_lexer": "ipython3",
   "nbconvert_exporter": "python",
   "file_extension": ".py"
  }
 },
 "nbformat": 4,
 "nbformat_minor": 2
}